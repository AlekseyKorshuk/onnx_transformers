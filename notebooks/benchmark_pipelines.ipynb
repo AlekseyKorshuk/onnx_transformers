{
 "nbformat": 4,
 "nbformat_minor": 0,
 "metadata": {
  "colab": {
   "name": "Benchmark",
   "provenance": [],
   "collapsed_sections": []
  },
  "kernelspec": {
   "name": "python3",
   "display_name": "Python 3"
  },
  "language_info": {
   "name": "python"
  }
 },
 "cells": [
  {
   "cell_type": "code",
   "source": [
    "%%capture\n",
    "!pip install --upgrade matplotlib\n",
    "!pip uninstall -y optimum_transformers\n",
    "!pip install git+https://github.com/AlekseyKorshuk/optimum-transformers.git\n",
    "\n",
    "import sys\n",
    "import os\n",
    "if 'google.colab' in sys.modules:\n",
    "  os.kill(os.getpid(), 9)"
   ],
   "metadata": {
    "id": "XFVwpz1Ox8Gx"
   },
   "execution_count": null,
   "outputs": []
  },
  {
   "cell_type": "code",
   "source": [
    "# @title Evaluation of sentiment-analysis\n",
    "task = \"sentiment-analysis\"  # @param {type:\"string\"}\n",
    "# @markdown Leave blank for default model:\n",
    "model_name = \"philschmid/MiniLM-L6-H384-uncased-sst2\"  # @param {type:\"string\"}\n",
    "num_tests = 100  # @param {type:\"integer\"}\n",
    "\n",
    "from optimum_transformers import Benchmark\n",
    "\n",
    "if model_name == \"\":\n",
    "  model_name = None\n",
    "benchmark = Benchmark(task, model_name)\n",
    "results = benchmark(num_tests, plot=True)"
   ],
   "metadata": {
    "cellView": "form",
    "id": "usEXMQwjFXSh"
   },
   "execution_count": null,
   "outputs": []
  },
  {
   "cell_type": "code",
   "source": [
    "#@title Evaluation of token-classification\n",
    "task = \"token-classification\" #@param {type:\"string\"}\n",
    "#@markdown Leave blank for default model:\n",
    "model_name = \"hf-internal-testing/tiny-bert-for-token-classification\" #@param {type:\"string\"}\n",
    "num_tests = 100 #@param {type:\"integer\"}\n",
    "\n",
    "from optimum_transformers import Benchmark\n",
    "\n",
    "if model_name == \"\":\n",
    "  model_name = None\n",
    "benchmark = Benchmark(task, model_name)\n",
    "results = benchmark(num_tests, plot=True)"
   ],
   "metadata": {
    "cellView": "form",
    "id": "eIq1qceRIni5"
   },
   "execution_count": null,
   "outputs": []
  },
  {
   "cell_type": "code",
   "source": [
    "#@title Evaluation of feature-extraction\n",
    "task = \"feature-extraction\" #@param {type:\"string\"}\n",
    "#@markdown Leave blank for default model:\n",
    "model_name = \"\" #@param {type:\"string\"}\n",
    "num_tests = 100 #@param {type:\"integer\"}\n",
    "\n",
    "from optimum_transformers import Benchmark\n",
    "\n",
    "if model_name == \"\":\n",
    "  model_name = None\n",
    "benchmark = Benchmark(task, model_name)\n",
    "results = benchmark(num_tests, plot=True)"
   ],
   "metadata": {
    "cellView": "form",
    "id": "iPuC7yECIpkw"
   },
   "execution_count": null,
   "outputs": []
  },
  {
   "cell_type": "code",
   "source": [
    "#@title Evaluation of question-answering\n",
    "task = \"question-answering\" #@param {type:\"string\"}\n",
    "#@markdown Leave blank for default model:\n",
    "model_name = \"deepset/roberta-base-squad2\" #@param {type:\"string\"}\n",
    "num_tests = 100 #@param {type:\"integer\"}\n",
    "\n",
    "from optimum_transformers import Benchmark\n",
    "\n",
    "if model_name == \"\":\n",
    "  model_name = None\n",
    "benchmark = Benchmark(task, model_name)\n",
    "results = benchmark(num_tests, plot=True)\n"
   ],
   "metadata": {
    "id": "x3yV9lDRIqGi",
    "cellView": "form"
   },
   "execution_count": null,
   "outputs": []
  },
  {
   "cell_type": "code",
   "source": [
    "#@title Evaluation of zero-shot-classification\n",
    "task = \"zero-shot-classification\" #@param {type:\"string\"}\n",
    "#@markdown Leave blank for default model:\n",
    "model_name = \"\" #@param {type:\"string\"}\n",
    "num_tests = 100 #@param {type:\"integer\"}\n",
    "\n",
    "from optimum_transformers import Benchmark\n",
    "\n",
    "if model_name == \"\":\n",
    "  model_name = None\n",
    "benchmark = Benchmark(task, model_name)\n",
    "results = benchmark(num_tests, plot=True)\n"
   ],
   "metadata": {
    "cellView": "form",
    "id": "FFPC2SzHjJkr"
   },
   "execution_count": null,
   "outputs": []
  }
 ]
}